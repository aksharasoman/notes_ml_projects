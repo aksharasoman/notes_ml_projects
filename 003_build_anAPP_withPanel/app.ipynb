{
 "cells": [
  {
   "cell_type": "markdown",
   "metadata": {},
   "source": [
    "Re-creation of [Panel Official Tutorial | Build an App](https://panel.holoviz.org/getting_started/build_app.html#serving-the-notebook)\n",
    "\n",
    "**Creating a basic interactive application using NumPy, Pandas, and hvPlot.**"
   ]
  },
  {
   "cell_type": "code",
   "execution_count": null,
   "metadata": {},
   "outputs": [],
   "source": [
    "import hvplot.pandas\n",
    "import numpy as np\n",
    "import pandas as pd\n",
    "import panel as pn\n",
    "\n",
    "PRIMARY_COLOR = \"#0072B5\"\n",
    "SECONDARY_COLOR = \"#B54300\"\n",
    "CSV_FILE = (\n",
    "    \"https://raw.githubusercontent.com/holoviz/panel/main/examples/assets/occupancy.csv\"\n",
    ")"
   ]
  },
  {
   "cell_type": "code",
   "execution_count": null,
   "metadata": {},
   "outputs": [],
   "source": []
  }
 ],
 "metadata": {
  "kernelspec": {
   "display_name": ".venv",
   "language": "python",
   "name": "python3"
  },
  "language_info": {
   "name": "python",
   "version": "3.12.4"
  }
 },
 "nbformat": 4,
 "nbformat_minor": 2
}
